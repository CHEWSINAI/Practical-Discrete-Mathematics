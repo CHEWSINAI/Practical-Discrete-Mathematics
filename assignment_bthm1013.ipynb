{
  "nbformat": 4,
  "nbformat_minor": 0,
  "metadata": {
    "colab": {
      "provenance": [],
      "authorship_tag": "ABX9TyM0mxaINo755rwx8AHiGuma",
      "include_colab_link": true
    },
    "kernelspec": {
      "name": "python3",
      "display_name": "Python 3"
    },
    "language_info": {
      "name": "python"
    }
  },
  "cells": [
    {
      "cell_type": "markdown",
      "metadata": {
        "id": "view-in-github",
        "colab_type": "text"
      },
      "source": [
        "<a href=\"https://colab.research.google.com/github/CHEWSINAI/Practical-Discrete-Mathematics/blob/master/assignment_bthm1013.ipynb\" target=\"_parent\"><img src=\"https://colab.research.google.com/assets/colab-badge.svg\" alt=\"Open In Colab\"/></a>"
      ]
    },
    {
      "cell_type": "markdown",
      "source": [
        "QUESTION 2"
      ],
      "metadata": {
        "id": "Tt0yF3hhc1px"
      }
    },
    {
      "cell_type": "code",
      "execution_count": 7,
      "metadata": {
        "id": "WeD9NAuaTDPQ",
        "colab": {
          "base_uri": "https://localhost:8080/"
        },
        "outputId": "1464d9cf-7524-4669-de62-8bd52467203d"
      },
      "outputs": [
        {
          "output_type": "stream",
          "name": "stdout",
          "text": [
            "Please enter a value: 5\n",
            "5 is not found\n"
          ]
        }
      ],
      "source": [
        "s = {5,9,4,7,8,1,58,6,14}\n",
        "value = input(\"Please enter a value: \")\n",
        "\n",
        "if (value in s):\n",
        "  print(f\"{value} is found\")\n",
        "else:\n",
        "  print(f\"{value} is not found\")"
      ]
    },
    {
      "cell_type": "markdown",
      "source": [
        "QUESTION 3a.\tInsertion sort *algorithm*                                                                       "
      ],
      "metadata": {
        "id": "yQIvvDiEc8uU"
      }
    },
    {
      "cell_type": "code",
      "source": [
        "# Insertion sort in Python\n",
        "\n",
        "\n",
        "def insertionSort(array):\n",
        "\n",
        "    for step in range(1, len(array)):\n",
        "        key = array[step]\n",
        "        j = step - 1\n",
        "        \n",
        "        # Compare key with each element on the left of it until an element smaller than it is found\n",
        "        # For descending order, change key<array[j] to key>array[j].        \n",
        "        while j >= 0 and key < array[j]:\n",
        "            array[j + 1] = array[j]\n",
        "            j = j - 1\n",
        "        \n",
        "        # Place key at after the element just smaller than it.\n",
        "        array[j + 1] = key\n",
        "\n",
        "\n",
        "A=[52,78,69,12,76,23,44,25,47]\n",
        "insertionSort(A)\n",
        "print(\"A=\", end = ' ')\n",
        "printList(A)"
      ],
      "metadata": {
        "colab": {
          "base_uri": "https://localhost:8080/"
        },
        "id": "zpm1nSgdd5np",
        "outputId": "abbe7953-0886-4814-ebe9-a8bd8ad99c0a"
      },
      "execution_count": 27,
      "outputs": [
        {
          "output_type": "stream",
          "name": "stdout",
          "text": [
            "A= 12 23 25 44 47 52 69 76 78 \n"
          ]
        }
      ]
    },
    {
      "cell_type": "markdown",
      "source": [
        "QUESTION 3b.\tMerge sort algorithm     "
      ],
      "metadata": {
        "id": "ktLD3n89evZU"
      }
    },
    {
      "cell_type": "code",
      "source": [
        "# MergeSort in Python\n",
        "\n",
        "\n",
        "def mergeSort(A):\n",
        "    if len(A) > 1:\n",
        "\n",
        "        #  r is the point where the array is divided into two subarrays\n",
        "        r = len(A)//2\n",
        "        L = A[:r]\n",
        "        M = A[r:]\n",
        "\n",
        "        # Sort the two halves\n",
        "        mergeSort(L)\n",
        "        mergeSort(M)\n",
        "\n",
        "        i = j = k = 0\n",
        "\n",
        "        # Until we reach either end of either L or M, pick larger among\n",
        "        # elements L and M and place them in the correct position at A[p..r]\n",
        "        while i < len(L) and j < len(M):\n",
        "            if L[i] < M[j]:\n",
        "                A[k] = L[i]\n",
        "                i += 1\n",
        "            else:\n",
        "                A[k] = M[j]\n",
        "                j += 1\n",
        "            k += 1\n",
        "\n",
        "        # When we run out of elements in either L or M,\n",
        "        # pick up the remaining elements and put in A[p..r]\n",
        "        while i < len(L):\n",
        "            A[k] = L[i]\n",
        "            i += 1\n",
        "            k += 1\n",
        "\n",
        "        while j < len(M):\n",
        "            A[k] = M[j]\n",
        "            j += 1\n",
        "            k += 1\n",
        "\n",
        "\n",
        "# Print the A\n",
        "def printList(A):\n",
        "    for i in range(len(A)):\n",
        "        print(A[i], end=\" \")\n",
        "    print()\n",
        "\n",
        "\n",
        "# Driver program\n",
        "if __name__ == '__main__':\n",
        "    A = [52,78,69,12,76,23,44,25,47]\n",
        "\n",
        "    mergeSort(A)\n",
        "\n",
        "    print(\"A=\", end = ' ')\n",
        "    printList(A)"
      ],
      "metadata": {
        "colab": {
          "base_uri": "https://localhost:8080/"
        },
        "id": "NYKr2vPb4sm6",
        "outputId": "9c2cd7bd-55ec-49f3-9ff5-2c7bab8d8231"
      },
      "execution_count": 26,
      "outputs": [
        {
          "output_type": "stream",
          "name": "stdout",
          "text": [
            "A= 12 23 25 44 47 52 69 76 78 \n"
          ]
        }
      ]
    },
    {
      "cell_type": "markdown",
      "source": [
        "QUESTION 3c.\tCocktail sort                                                                                              "
      ],
      "metadata": {
        "id": "FRXPONXBfI3T"
      }
    },
    {
      "cell_type": "code",
      "source": [
        "# Python program for implementation of Cocktail Sort\n",
        " \n",
        " \n",
        "def cocktailSort(a):\n",
        "    n = len(a)\n",
        "    swapped = True\n",
        "    start = 0\n",
        "    end = n-1\n",
        "    while (swapped == True):\n",
        " \n",
        "        # reset the swapped flag on entering the loop,\n",
        "        # because it might be true from a previous\n",
        "        # iteration.\n",
        "        swapped = False\n",
        " \n",
        "        # loop from left to right same as the bubble\n",
        "        # sort\n",
        "        for i in range(start, end):\n",
        "            if (a[i] > a[i + 1]):\n",
        "                a[i], a[i + 1] = a[i + 1], a[i]\n",
        "                swapped = True\n",
        " \n",
        "        # if nothing moved, then array is sorted.\n",
        "        if (swapped == False):\n",
        "            break\n",
        " \n",
        "        # otherwise, reset the swapped flag so that it\n",
        "        # can be used in the next stage\n",
        "        swapped = False\n",
        " \n",
        "        # move the end point back by one, because\n",
        "        # item at the end is in its rightful spot\n",
        "        end = end-1\n",
        " \n",
        "        # from right to left, doing the same\n",
        "        # comparison as in the previous stage\n",
        "        for i in range(end-1, start-1, -1):\n",
        "            if (a[i] > a[i + 1]):\n",
        "                a[i], a[i + 1] = a[i + 1], a[i]\n",
        "                swapped = True\n",
        " \n",
        "        # increase the starting point, because\n",
        "        # the last stage would have moved the next\n",
        "        # smallest number to its rightful spot.\n",
        "        start = start + 1\n",
        " \n",
        " \n",
        "# Driver code\n",
        "a = [52,78,69,12,76,23,44,25,47]\n",
        "cocktailSort(a)\n",
        "print(\"A=\", end = '')\n",
        "for i in range(len(a)):\n",
        "    print(\"% d\" % a[i], end = ' ')"
      ],
      "metadata": {
        "colab": {
          "base_uri": "https://localhost:8080/"
        },
        "id": "T21NXon4fHzB",
        "outputId": "47fdc8d2-55e1-4c72-ad7f-704ee8f28f9d"
      },
      "execution_count": 44,
      "outputs": [
        {
          "output_type": "stream",
          "name": "stdout",
          "text": [
            "A= 12  23  25  44  47  52  69  76  78 "
          ]
        }
      ]
    },
    {
      "cell_type": "markdown",
      "source": [
        "QUESTION 3d.\tPigeonhole sort  "
      ],
      "metadata": {
        "id": "hHGDiaMGfJSQ"
      }
    },
    {
      "cell_type": "code",
      "source": [
        "# Python program to implement Pigeonhole Sort */\n",
        "  \n",
        "def pigeonhole_sort(a):\n",
        "    # size of range of values in the list \n",
        "    # (ie, number of pigeonholes we need)\n",
        "    my_min = min(a)\n",
        "    my_max = max(a)\n",
        "    size = my_max - my_min + 1\n",
        "  \n",
        "    # our list of pigeonholes\n",
        "    holes = [0] * size\n",
        "  \n",
        "    # Populate the pigeonholes.\n",
        "    for x in a:\n",
        "        assert type(x) is int, \"integers only please\"\n",
        "        holes[x - my_min] += 1\n",
        "  \n",
        "    # Put the elements back into the array in order.\n",
        "    i = 0\n",
        "    for count in range(size):\n",
        "        while holes[count] > 0:\n",
        "            holes[count] -= 1\n",
        "            a[i] = count + my_min\n",
        "            i += 1\n",
        "              \n",
        "  \n",
        "a = [52,78,69,12,76,23,44,25,47]\n",
        "print(\"A= \", end =\" \")\n",
        "  \n",
        "pigeonhole_sort(a)\n",
        "          \n",
        "for i in range(0, len(a)):\n",
        "    print(a[i], end =\" \")"
      ],
      "metadata": {
        "colab": {
          "base_uri": "https://localhost:8080/"
        },
        "id": "r_DRjbar-TTV",
        "outputId": "c28950e7-6f9b-4d25-bed9-54d74a9b78e2"
      },
      "execution_count": 45,
      "outputs": [
        {
          "output_type": "stream",
          "name": "stdout",
          "text": [
            "A=  12 23 25 44 47 52 69 76 78 "
          ]
        }
      ]
    },
    {
      "cell_type": "markdown",
      "source": [
        "QUESTION 3e:\n",
        "\n",
        "i.\tSummation of the smallest and largest number \n",
        "\n",
        "ii.\tMultiplication of the smallest and largest number\n",
        "\n",
        "iii.\tExponents of the smallest number and largest number            "
      ],
      "metadata": {
        "id": "Lma0RM_4-Q1J"
      }
    },
    {
      "cell_type": "code",
      "source": [
        "# Python prog to illustrate the following in a list\n",
        "def find_len(A):\n",
        "    length = len(A)\n",
        "    A.sort()\n",
        "    print(\"Smallest element is:\", A[0])\n",
        "    print(\"Largest element is:\", A[length-1])\n",
        "    print(\"Summation of the smallest and largest number is:\",A[0]+A[length-1])\n",
        "    print(\"Multiplication of the smallest and largest number is:\",A[0]*A[length-1])\n",
        " \n",
        "# Driver Code\n",
        "A=[52,78,69,12,76,23,44,25,47]\n",
        "Largest = find_len(A)"
      ],
      "metadata": {
        "colab": {
          "base_uri": "https://localhost:8080/"
        },
        "id": "FbxAX0YP_qL9",
        "outputId": "31504c0b-01d8-4fa7-ff3c-8bca94718e32"
      },
      "execution_count": 48,
      "outputs": [
        {
          "output_type": "stream",
          "name": "stdout",
          "text": [
            "Smallest element is: 12\n",
            "Largest element is: 78\n",
            "Summation of the smallest and largest number is: 90\n",
            "Multiplication of the smallest and largest number is: 936\n"
          ]
        }
      ]
    }
  ]
}